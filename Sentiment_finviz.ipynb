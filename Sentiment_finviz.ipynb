{
 "cells": [
  {
   "cell_type": "markdown",
   "metadata": {},
   "source": [
    "Instructions:\n",
    "\n",
    "Some things you must know before using this app.:\n",
    "\n",
    "    -This app helps survey the most recent 100 posts or titles that appear on the finviz.com website for a particular stock symbol. Much thanks to the Python Project for sharing their code in how to scrape the website and the use of nltk's Vader sentiment analyzer to provide the sentiment ratings for each of the titles. The visual summary in the form of a bar chart is also great. The link to the Youtube video is provided below.\n",
    "\n",
    "[Python Project] Sentiment Analysis and Visualization of Stock News - YouTube https://www.youtube.com/watch?v=o-zM8onpQZY\n",
    "\n",
    "    -The sentiment analyzer that is used is an industry standard but it is not perfect. You will find titles that appear to have their sentiments mis-rated.\n",
    "\n",
    "    -This is NOT a stock picker nor is it intended to provide any information on a company's or stock prices' future, present or past performance. Any conclusions made from the information contained here-in are the sole responsibility of the user.\n",
    "    \n",
    "    -The information contained here-in is not exhaustive and should not be treated as such.\n",
    "    \n",
    "    -The accuracy of the information contained here-in is not verified. It could be wrong. \n",
    "    \n",
    "    -This application assumes a rudimentry understanding of the jupyter notebook environment. If you have absolutely no technical background, find someone who does and who is willing to help you. It may save you hours of frustration. \n",
    "\n",
    "To use this app.:\n",
    "\n",
    "    Run the cell titled \"RUN THIS CELL\" by selecting this cell (side bar will be blue) and pressing the Run button on the toolbar above (in the jupyter notebook environment there are other ways to run the code.) \n",
    "\n",
    "    Enter the stock symbol (not the company's name) you want to research. (It is not case sensitive.)\n",
    "    \n",
    "    After you have entered the stock symbol you will be prompted to see if you want to remove what are known as stopwords. Stopwords are words that are generally accepted as conveying no sentiment. If you choose to have them removed it might make the the code run more efficiently.  \n",
    "    \n",
    "    You should see a bar chart with the sentiment values for the most recent 100 articles with date listed on the x-axis and the nltk's VADER sentiment value on the y-axis. If no bar chart appears run through the all of the prompts and re-start the app.\n",
    "    \n",
    "    Next you will see a pie chart that is divided into \"positive,\" \"neutral,\" and \"negative\" sentiments and the accompanied statistics.\n",
    "    \n",
    "    Following this you will see a word cloud of the titles with postive sentiment. \n",
    "    \n",
    "    To find the posts where these words reside, type in the word in the prompt. These are case sentitive so if your search comes back empty, re-enter the word with changed capitization. For example, start with the first letter of the word capitalized with the rest of the letters in lower case. If that does not yield anything, try all lower case. Make sure your spelling is exactly what is represented in the word cloud. Enter only one word at the prompt.\n",
    "    \n",
    "    If you don't want to search on any of the key words, just press \"enter\" when asked what word to search on.\n",
    "    \n",
    "    Next you will see the word cloud for the neutral sentiment titles. Follow the same procedure as above to search or move on.\n",
    "    \n",
    "    Next you will see the word cloud for the negative sentiment titles. You have the same opportunity to search titles that have negative sentiments.\n",
    "    \n",
    "    When the program is finished, the message \"All done ...\" will appear."
   ]
  },
  {
   "cell_type": "code",
   "execution_count": null,
   "metadata": {
    "scrolled": true
   },
   "outputs": [],
   "source": [
    "# RUN THIS CELL BY CLICKING ON THE BLACK RIGHT TRIANGLE TO THE LEFT\n",
    "\n",
    "import finVizFetchPkg.finVizScaper\n",
    "import sentimentAnalysisPkg.basicSentimentAnalysis\n",
    "# instantiate class to scrape finviz data\n",
    "#finvizdf = finvizStreamer()\n",
    "finvizdf = finVizFetchPkg.finVizScaper.finvizStreamer()\n",
    "df = finvizdf.scrape_finziz()\n",
    "#------------------------\n",
    "#instantiate class to perform sentiment analysis\n",
    "#sentiment = sentimentAnalytics()\n",
    "sentiment = sentimentAnalysisPkg.basicSentimentAnalysis.sentimentAnalytics()\n",
    "sentiment.main(df,finvizdf.tickers)"
   ]
  }
 ],
 "metadata": {
  "kernelspec": {
   "display_name": "Python 3",
   "language": "python",
   "name": "python3"
  },
  "language_info": {
   "codemirror_mode": {
    "name": "ipython",
    "version": 3
   },
   "file_extension": ".py",
   "mimetype": "text/x-python",
   "name": "python",
   "nbconvert_exporter": "python",
   "pygments_lexer": "ipython3",
   "version": "3.7.4"
  }
 },
 "nbformat": 4,
 "nbformat_minor": 2
}
